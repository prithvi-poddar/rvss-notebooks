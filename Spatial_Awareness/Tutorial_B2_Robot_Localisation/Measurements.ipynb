{
 "cells": [
  {
   "cell_type": "code",
   "execution_count": null,
   "metadata": {},
   "outputs": [],
   "source": [
    "import numpy as np\n",
    "\n",
    "class MarkerMeasurement:\n",
    "    # Measurements are of landmarks in 2D and have a bearing as well as tag id.\n",
    "    def __init__(self, position, tag, covariance = (0.1*np.eye(2))):\n",
    "        self.position = position\n",
    "        self.tag = tag\n",
    "        self.covariance = covariance\n",
    "\n",
    "class DriveMeasurement:\n",
    "    # Measurement of the robot wheel velocities\n",
    "    def __init__(self, left_speed, right_speed, dt, left_cov = 1, right_cov = 1):\n",
    "        self.left_speed = left_speed\n",
    "        self.right_speed = right_speed\n",
    "        self.dt = dt\n",
    "        self.left_cov = left_cov\n",
    "        self.right_cov = right_cov"
   ]
  }
 ],
 "metadata": {
  "kernelspec": {
   "display_name": "Python 3",
   "language": "python",
   "name": "python3"
  },
  "language_info": {
   "codemirror_mode": {
    "name": "ipython",
    "version": 3
   },
   "file_extension": ".py",
   "mimetype": "text/x-python",
   "name": "python",
   "nbconvert_exporter": "python",
   "pygments_lexer": "ipython3",
   "version": "3.7.4"
  }
 },
 "nbformat": 4,
 "nbformat_minor": 4
}
