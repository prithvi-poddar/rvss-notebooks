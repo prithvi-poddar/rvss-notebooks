{
 "cells": [
  {
   "cell_type": "code",
   "execution_count": null,
   "metadata": {},
   "outputs": [],
   "source": [
    "import numpy as np\n",
    "\n",
    "class RobotEKF:\n",
    "    # Implementation of an EKF for SLAM\n",
    "    # The state is ordered as [x; y; theta; l1x; l1y; ...; lnx; lny]\n",
    "\n",
    "    # Utility\n",
    "    # -------\n",
    "    def __init__(self, robot, markers):\n",
    "        # State components\n",
    "        self.robot = robot\n",
    "        self.markers = markers\n",
    "\n",
    "        # Covariance matrix\n",
    "        self.P = np.eye(3)*0.5\n",
    "\n",
    "    # EKF functions\n",
    "    # -------------\n",
    "    def predict(self, raw_drive_meas):\n",
    "        # The prediction step of EKF\n",
    "        self.robot.drive(raw_drive_meas)\n",
    "        self.x_hat = self.robot.state\n",
    "        F = self.state_transition(raw_drive_meas)\n",
    "        Q = self.predict_covariance(raw_drive_meas)\n",
    "        self.P = F @ self.P @ F.T + Q\n",
    "\n",
    "    def update(self, measurements):\n",
    "        # Construct measurement index list\n",
    "        tags = [lm.tag for lm in measurements]\n",
    "        # Stack measurements and set covariance\n",
    "        z = np.concatenate([lm.position.reshape(-1,1) for lm in measurements], axis=0)\n",
    "        R = np.zeros((2*len(measurements),2*len(measurements)))\n",
    "        for i in range(len(measurements)):\n",
    "            R[2*i:2*i+2,2*i:2*i+2] = measurements[i].covariance\n",
    "\n",
    "        # Compute own measurements\n",
    "        z_hat = self.robot.measure(self.markers, tags)\n",
    "        z_hat = z_hat.reshape((-1,1),order=\"F\")\n",
    "        H = self.robot.derivative_measure(self.markers, tags)\n",
    "        \n",
    "        y = z - z_hat\n",
    "        S = H @ self.P @ H.T + R\n",
    "        K = self.P @ H.T @ np.linalg.inv(S)\n",
    "        x = self.x_hat + K @ y\n",
    "        \n",
    "        self.robot.state = x\n",
    "        self.P = (np.eye(x.shape[0]) - K @ H) @ self.P\n",
    "\n",
    "    def state_transition(self, raw_drive_meas):\n",
    "        F = self.robot.derivative_drive(raw_drive_meas)\n",
    "        return F\n",
    "    \n",
    "    def predict_covariance(self, raw_drive_meas):\n",
    "        Q = self.robot.covariance_drive(raw_drive_meas)\n",
    "        return Q"
   ]
  }
 ],
 "metadata": {
  "kernelspec": {
   "display_name": "Python 3",
   "language": "python",
   "name": "python3"
  },
  "language_info": {
   "codemirror_mode": {
    "name": "ipython",
    "version": 3
   },
   "file_extension": ".py",
   "mimetype": "text/x-python",
   "name": "python",
   "nbconvert_exporter": "python",
   "pygments_lexer": "ipython3",
   "version": "3.7.4"
  }
 },
 "nbformat": 4,
 "nbformat_minor": 4
}
