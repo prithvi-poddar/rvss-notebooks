{
 "cells": [
  {
   "cell_type": "code",
   "execution_count": 1,
   "metadata": {},
   "outputs": [],
   "source": [
    "import numpy as np\n",
    "\n",
    "class Robot:\n",
    "    def __init__(self, wheels_width, wheels_scale):\n",
    "        # State is a vector of [x,y,theta]'\n",
    "        self.state = np.zeros((3,1))\n",
    "        \n",
    "        # Wheel parameters\n",
    "        self.wheels_width = wheels_width  # The distance between the left and right wheels\n",
    "        self.wheels_scale = wheels_scale  # The scaling factor converting ticks/s to m/s\n",
    "            \n",
    "    def drive(self, drive_meas):\n",
    "        # left_speed and right_speed are the speeds in ticks/s of the left and right wheels.\n",
    "        # dt is the length of time to drive for\n",
    "\n",
    "        # Compute the linear and angular velocity from wheel speeds\n",
    "        linear_velocity, angular_velocity = self.convert_wheel_speeds(drive_meas.left_speed, drive_meas.right_speed)\n",
    "\n",
    "        #This is the current state of the robot\n",
    "        x_k = self.state[0]\n",
    "        y_k = self.state[1]\n",
    "        theta_k = self.state[2]\n",
    "        \n",
    "        # Apply the velocities\n",
    "        dt = drive_meas.dt\n",
    "        if angular_velocity == 0:\n",
    "            #-----------------------------FILL OUT DRIVE STRAIGHT CODE--------------\n",
    "            x_kp1 = x_k + np.cos(theta_k)*linear_velocity*dt\n",
    "            y_kp1 = y_k + np.sin(theta_k)*linear_velocity*dt\n",
    "            theta_kp1 = theta_k\n",
    "            #-----------------------------------------------------------------------\n",
    "        else:\n",
    "            #-----------------------------FILL OUT DRIVE CODE-----------------------\n",
    "            x_kp1 = x_k + linear_velocity / angular_velocity * (np.sin(theta_k+dt*angular_velocity) - np.sin(theta_k))\n",
    "            y_kp1 = y_k + linear_velocity / angular_velocity * (-np.cos(theta_k+dt*angular_velocity) + np.cos(theta_k))\n",
    "            theta_kp1 = theta_k + angular_velocity*dt\n",
    "            #-----------------------------------------------------------------------\n",
    "       \n",
    "        #Save our state \n",
    "        self.state[0] = x_kp1\n",
    "        self.state[1] = y_kp1\n",
    "        self.state[2] = theta_kp1\n",
    "            \n",
    "            \n",
    "            \n",
    "            \n",
    "    def convert_wheel_speeds(self, left_speed, right_speed):\n",
    "        # Convert to m/s\n",
    "        left_speed_m = left_speed * self.wheels_scale\n",
    "        right_speed_m = right_speed * self.wheels_scale\n",
    "\n",
    "        # Compute the linear and angular velocity\n",
    "        linear_velocity = (left_speed_m + right_speed_m) / 2.0\n",
    "        angular_velocity = (right_speed_m - left_speed_m) / self.wheels_width\n",
    "        \n",
    "        return linear_velocity, angular_velocity"
   ]
  }
 ],
 "metadata": {
  "kernelspec": {
   "display_name": "Python 3",
   "language": "python",
   "name": "python3"
  },
  "language_info": {
   "codemirror_mode": {
    "name": "ipython",
    "version": 3
   },
   "file_extension": ".py",
   "mimetype": "text/x-python",
   "name": "python",
   "nbconvert_exporter": "python",
   "pygments_lexer": "ipython3",
   "version": "3.7.4"
  }
 },
 "nbformat": 4,
 "nbformat_minor": 4
}
